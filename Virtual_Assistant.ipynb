{
 "cells": [
  {
   "cell_type": "code",
   "execution_count": 6,
   "metadata": {},
   "outputs": [],
   "source": [
    "import wx\n",
    "import wolframalpha\n",
    "import wikipedia\n",
    "import pyttsx3\n",
    "import speech_recognition as sr\n",
    "from selenium import webdriver\n",
    "import sys \n",
    "import os\n",
    "import subprocess"
   ]
  },
  {
   "cell_type": "code",
   "execution_count": 7,
   "metadata": {},
   "outputs": [],
   "source": [
    "#include language variation\n",
    "engine = pyttsx3.init()\n",
    "engine.say(\"HELLO, how do i help you?\")\n",
    "engine.runAndWait()"
   ]
  },
  {
   "cell_type": "code",
   "execution_count": 8,
   "metadata": {},
   "outputs": [],
   "source": [
    "def search_web(Question): \n",
    "    print(\"searching the web for you....\")\n",
    "    driver = webdriver.Chrome('chromedriver.exe')\n",
    "\n",
    "    if 'youtube' in Question.lower():\n",
    "        indx = Question.lower().split().index('youtube') \n",
    "        query = Question.split()[indx + 1:] \n",
    "        engine.say(\"Searching Youtube for\"+query[0])\n",
    "        engine.runAndWait()\n",
    "        driver.get(\"http://www.youtube.com/results?search_query=\" + '+'.join(query)) \n",
    "        return\n",
    "  \n",
    "    elif 'wikipedia' in Question.lower(): \n",
    "    \n",
    "        indx = Question.lower().split().index('wikipedia') \n",
    "        query = Question.split()[indx + 1:] \n",
    "        engine.say(\"Searching wikipedia for\"+query[0])\n",
    "        engine.runAndWait()\n",
    "        driver.get(\"https://en.wikipedia.org/wiki/\" + '_'.join(query)) \n",
    "        return\n",
    "  \n",
    "    else: \n",
    "        if 'google' in Question: \n",
    "            indx = Question.lower().split().index('google') \n",
    "            query = Question.split()[indx + 1:]\n",
    "            engine.say(\"Searching Google for\"+query[0])\n",
    "            engine.runAndWait()\n",
    "            driver.get(\"https://www.google.com/search?q=\" + query[0])\n",
    "\n",
    "        elif 'search' in Question: \n",
    "  \n",
    "            indx =Question.lower().split().index('google') \n",
    "            query = Question.split()[indx + 1:] \n",
    "            driver.get(\"https://www.google.com/search?q=\" + '+'.join(query)) \n",
    "  \n",
    "        else: \n",
    "  \n",
    "            driver.get(\"https://www.google.com/search?q=\" + '+'.join(Question.split()))   \n",
    "        return"
   ]
  },
  {
   "cell_type": "code",
   "execution_count": 9,
   "metadata": {},
   "outputs": [],
   "source": [
    "class MyFrame(wx.Frame):\n",
    "    def __init__(self):\n",
    "        wx.Frame.__init__(self,None,pos=wx.DefaultPosition,size=wx.Size(450,100),style=wx.MINIMIZE_BOX | wx.SYSTEM_MENU | wx.CAPTION | wx.CLOSE_BOX | wx.CLIP_CHILDREN, title=\"Assistant\")\n",
    "        panel=wx.Panel(self)\n",
    "        my_sizer=wx.BoxSizer(wx.VERTICAL)\n",
    "        lbl= wx.StaticText(panel,label=\"Hello I am you Python Digital Assistant. How may I help you today?\")\n",
    "        my_sizer.Add(lbl,0,wx.ALL,5)\n",
    "        self.txt= wx.TextCtrl(panel,style=wx.TE_PROCESS_ENTER,size=(400,30))\n",
    "        self.txt.SetFocus()\n",
    "        self.txt.Bind(wx.EVT_TEXT_ENTER, self.OnEnter)\n",
    "        my_sizer.Add(self.txt,0,wx.ALL,5)\n",
    "        panel.SetSizer(my_sizer)\n",
    "        self.Show()\n",
    "    def OnClose(self,event):\n",
    "        self.Close()\n",
    "    def OnEnter(self,event):\n",
    "        Question=self.txt.GetValue()\n",
    "        if Question==\"Open\":\n",
    "            command  = r\"C:\\Users\\Name\\Desktop\\file_name.exe\"\n",
    "            print(command)\n",
    "            os.system(command)\n",
    "            return\n",
    "        if Question==\"Shut Down\":\n",
    "            engine.say(\"Shutting Down..\")\n",
    "            self.OnClose(event)\n",
    "            return\n",
    "        if Question==\"\":\n",
    "            r = sr.Recognizer()\n",
    "            with sr.Microphone() as source:\n",
    "                Question= r.listen(source)\n",
    "                engine.say(\"Was your Question\"+Question)\n",
    "                engine.runAndWait()\n",
    "                print(Question)\n",
    "            try:\n",
    "                self.txt.SetValue(r.recognize_google(audio))\n",
    "            except sr.UnknownValueError:\n",
    "                print(\"Google Speech Recognition could not understand audio\")\n",
    "            except sr.RequestError as e:\n",
    "                print(\"Could not request results from Google Speech Recognition service; {0}\".format(e))\n",
    "        \n",
    "        try:\n",
    "            if 'search' in Question or 'play' in Question:\n",
    "                search_web(Question)\n",
    "               \n",
    "\n",
    "     \n",
    "            else:\n",
    "                app_id=\"9LJRHR-6XH4W69K6P\"\n",
    "                client=wolframalpha.Client(app_id)\n",
    "                result=client.query(Question)\n",
    "                answer=next(result.results).text\n",
    "                print(answer)\n",
    "                engine.say(\"The answer is\"+answer)\n",
    "                engine.runAndWait()\n",
    "        except:\n",
    "            summary=wikipedia.summary(Question, sentences=2)\n",
    "            print(summary)\n",
    "            engine.say(summary)\n",
    "            engine.runAndWait()\n",
    "                "
   ]
  },
  {
   "cell_type": "code",
   "execution_count": 10,
   "metadata": {},
   "outputs": [
    {
     "ename": "PyNoAppError",
     "evalue": "The wx.App object must be created first!",
     "output_type": "error",
     "traceback": [
      "\u001b[1;31m---------------------------------------------------------------------------\u001b[0m",
      "\u001b[1;31mPyNoAppError\u001b[0m                              Traceback (most recent call last)",
      "\u001b[1;32m<ipython-input-10-3c1210a2b69c>\u001b[0m in \u001b[0;36m<module>\u001b[1;34m\u001b[0m\n\u001b[0;32m      1\u001b[0m \u001b[1;32mif\u001b[0m \u001b[0m__name__\u001b[0m\u001b[1;33m==\u001b[0m\u001b[1;34m\"__main__\"\u001b[0m\u001b[1;33m:\u001b[0m\u001b[1;33m\u001b[0m\u001b[1;33m\u001b[0m\u001b[0m\n\u001b[0;32m      2\u001b[0m     \u001b[0mapp\u001b[0m\u001b[1;33m=\u001b[0m\u001b[0mwx\u001b[0m\u001b[1;33m.\u001b[0m\u001b[0mApp\u001b[0m\u001b[1;33m(\u001b[0m\u001b[1;32mTrue\u001b[0m\u001b[1;33m)\u001b[0m\u001b[1;33m\u001b[0m\u001b[1;33m\u001b[0m\u001b[0m\n\u001b[1;32m----> 3\u001b[1;33m     \u001b[0mframe\u001b[0m\u001b[1;33m=\u001b[0m\u001b[0mMyFrame\u001b[0m\u001b[1;33m(\u001b[0m\u001b[1;33m)\u001b[0m\u001b[1;33m\u001b[0m\u001b[1;33m\u001b[0m\u001b[0m\n\u001b[0m\u001b[0;32m      4\u001b[0m     \u001b[0mapp\u001b[0m\u001b[1;33m.\u001b[0m\u001b[0mMainLoop\u001b[0m\u001b[1;33m(\u001b[0m\u001b[1;33m)\u001b[0m\u001b[1;33m\u001b[0m\u001b[1;33m\u001b[0m\u001b[0m\n",
      "\u001b[1;32m<ipython-input-9-a254f5989e57>\u001b[0m in \u001b[0;36m__init__\u001b[1;34m(self)\u001b[0m\n\u001b[0;32m      1\u001b[0m \u001b[1;32mclass\u001b[0m \u001b[0mMyFrame\u001b[0m\u001b[1;33m(\u001b[0m\u001b[0mwx\u001b[0m\u001b[1;33m.\u001b[0m\u001b[0mFrame\u001b[0m\u001b[1;33m)\u001b[0m\u001b[1;33m:\u001b[0m\u001b[1;33m\u001b[0m\u001b[1;33m\u001b[0m\u001b[0m\n\u001b[0;32m      2\u001b[0m     \u001b[1;32mdef\u001b[0m \u001b[0m__init__\u001b[0m\u001b[1;33m(\u001b[0m\u001b[0mself\u001b[0m\u001b[1;33m)\u001b[0m\u001b[1;33m:\u001b[0m\u001b[1;33m\u001b[0m\u001b[1;33m\u001b[0m\u001b[0m\n\u001b[1;32m----> 3\u001b[1;33m         \u001b[0mwx\u001b[0m\u001b[1;33m.\u001b[0m\u001b[0mFrame\u001b[0m\u001b[1;33m.\u001b[0m\u001b[0m__init__\u001b[0m\u001b[1;33m(\u001b[0m\u001b[0mself\u001b[0m\u001b[1;33m,\u001b[0m\u001b[1;32mNone\u001b[0m\u001b[1;33m,\u001b[0m\u001b[0mpos\u001b[0m\u001b[1;33m=\u001b[0m\u001b[0mwx\u001b[0m\u001b[1;33m.\u001b[0m\u001b[0mDefaultPosition\u001b[0m\u001b[1;33m,\u001b[0m\u001b[0msize\u001b[0m\u001b[1;33m=\u001b[0m\u001b[0mwx\u001b[0m\u001b[1;33m.\u001b[0m\u001b[0mSize\u001b[0m\u001b[1;33m(\u001b[0m\u001b[1;36m450\u001b[0m\u001b[1;33m,\u001b[0m\u001b[1;36m100\u001b[0m\u001b[1;33m)\u001b[0m\u001b[1;33m,\u001b[0m\u001b[0mstyle\u001b[0m\u001b[1;33m=\u001b[0m\u001b[0mwx\u001b[0m\u001b[1;33m.\u001b[0m\u001b[0mMINIMIZE_BOX\u001b[0m \u001b[1;33m|\u001b[0m \u001b[0mwx\u001b[0m\u001b[1;33m.\u001b[0m\u001b[0mSYSTEM_MENU\u001b[0m \u001b[1;33m|\u001b[0m \u001b[0mwx\u001b[0m\u001b[1;33m.\u001b[0m\u001b[0mCAPTION\u001b[0m \u001b[1;33m|\u001b[0m \u001b[0mwx\u001b[0m\u001b[1;33m.\u001b[0m\u001b[0mCLOSE_BOX\u001b[0m \u001b[1;33m|\u001b[0m \u001b[0mwx\u001b[0m\u001b[1;33m.\u001b[0m\u001b[0mCLIP_CHILDREN\u001b[0m\u001b[1;33m,\u001b[0m \u001b[0mtitle\u001b[0m\u001b[1;33m=\u001b[0m\u001b[1;34m\"Assistant\"\u001b[0m\u001b[1;33m)\u001b[0m\u001b[1;33m\u001b[0m\u001b[1;33m\u001b[0m\u001b[0m\n\u001b[0m\u001b[0;32m      4\u001b[0m         \u001b[0mpanel\u001b[0m\u001b[1;33m=\u001b[0m\u001b[0mwx\u001b[0m\u001b[1;33m.\u001b[0m\u001b[0mPanel\u001b[0m\u001b[1;33m(\u001b[0m\u001b[0mself\u001b[0m\u001b[1;33m)\u001b[0m\u001b[1;33m\u001b[0m\u001b[1;33m\u001b[0m\u001b[0m\n\u001b[0;32m      5\u001b[0m         \u001b[0mmy_sizer\u001b[0m\u001b[1;33m=\u001b[0m\u001b[0mwx\u001b[0m\u001b[1;33m.\u001b[0m\u001b[0mBoxSizer\u001b[0m\u001b[1;33m(\u001b[0m\u001b[0mwx\u001b[0m\u001b[1;33m.\u001b[0m\u001b[0mVERTICAL\u001b[0m\u001b[1;33m)\u001b[0m\u001b[1;33m\u001b[0m\u001b[1;33m\u001b[0m\u001b[0m\n",
      "\u001b[1;31mPyNoAppError\u001b[0m: The wx.App object must be created first!"
     ]
    }
   ],
   "source": [
    "if __name__==\"__main__\":\n",
    "    app=wx.App(True)\n",
    "    frame=MyFrame()\n",
    "    app.MainLoop()"
   ]
  },
  {
   "cell_type": "code",
   "execution_count": null,
   "metadata": {},
   "outputs": [],
   "source": []
  },
  {
   "cell_type": "code",
   "execution_count": null,
   "metadata": {},
   "outputs": [],
   "source": []
  },
  {
   "cell_type": "code",
   "execution_count": null,
   "metadata": {},
   "outputs": [],
   "source": []
  },
  {
   "cell_type": "code",
   "execution_count": null,
   "metadata": {},
   "outputs": [],
   "source": []
  }
 ],
 "metadata": {
  "kernelspec": {
   "display_name": "Python 3",
   "language": "python",
   "name": "python3"
  },
  "language_info": {
   "codemirror_mode": {
    "name": "ipython",
    "version": 3
   },
   "file_extension": ".py",
   "mimetype": "text/x-python",
   "name": "python",
   "nbconvert_exporter": "python",
   "pygments_lexer": "ipython3",
   "version": "3.7.4"
  }
 },
 "nbformat": 4,
 "nbformat_minor": 2
}
